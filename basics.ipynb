{
 "cells": [
  {
   "cell_type": "code",
   "execution_count": 1,
   "metadata": {},
   "outputs": [
    {
     "data": {
      "text/html": [
       "        <script type=\"text/javascript\">\n",
       "        window.PlotlyConfig = {MathJaxConfig: 'local'};\n",
       "        if (window.MathJax) {MathJax.Hub.Config({SVG: {font: \"STIX-Web\"}});}\n",
       "        if (typeof require !== 'undefined') {\n",
       "        require.undef(\"plotly\");\n",
       "        requirejs.config({\n",
       "            paths: {\n",
       "                'plotly': ['https://cdn.plot.ly/plotly-latest.min']\n",
       "            }\n",
       "        });\n",
       "        require(['plotly'], function(Plotly) {\n",
       "            window._Plotly = Plotly;\n",
       "        });\n",
       "        }\n",
       "        </script>\n",
       "        "
      ]
     },
     "metadata": {},
     "output_type": "display_data"
    }
   ],
   "source": [
    "import pandas as pd\n",
    "import plotly.plotly as py\n",
    "import plotly.graph_objs as go\n",
    "from plotly.offline import download_plotlyjs, init_notebook_mode, plot, iplot\n",
    "\n",
    "init_notebook_mode(connected=True)\n",
    "\n",
    "candidates = pd.read_csv(\"candidates.csv\", encoding=\"ISO-8859-1\")"
   ]
  },
  {
   "cell_type": "code",
   "execution_count": 2,
   "metadata": {},
   "outputs": [
    {
     "data": {
      "application/vnd.plotly.v1+json": {
       "config": {
        "linkText": "Export to plot.ly",
        "plotlyServerURL": "https://plot.ly",
        "responsive": true,
        "showLink": false
       },
       "data": [
        {
         "marker": {
          "color": [
           "#0000ff",
           "#ff0000"
          ]
         },
         "opacity": 0.5,
         "type": "histogram",
         "uid": "65d9ce28-41b5-41dc-be48-15303d77ea91",
         "x": [
          "Democrat",
          "Democrat",
          "Democrat",
          "Democrat",
          "Democrat",
          "Democrat",
          "Democrat",
          "Democrat",
          "Democrat",
          "Democrat",
          "Democrat",
          "Democrat",
          "Democrat",
          "Democrat",
          "Democrat",
          "Democrat",
          "Democrat",
          "Democrat",
          "Democrat",
          "Democrat",
          "Democrat",
          "Independent",
          "Democrat",
          "Republican",
          "Democrat"
         ]
        }
       ],
       "layout": {
        "title": {
         "text": "Candidate Party"
        }
       }
      },
      "text/html": [
       "<div>\n",
       "        \n",
       "        \n",
       "            <div id=\"86435a13-afbc-44e6-a632-aa62a0f5501a\" class=\"plotly-graph-div\" style=\"height:525px; width:100%;\"></div>\n",
       "            <script type=\"text/javascript\">\n",
       "                require([\"plotly\"], function(Plotly) {\n",
       "                    window.PLOTLYENV=window.PLOTLYENV || {};\n",
       "                    window.PLOTLYENV.BASE_URL='https://plot.ly';\n",
       "                    \n",
       "                if (document.getElementById(\"86435a13-afbc-44e6-a632-aa62a0f5501a\")) {\n",
       "                    Plotly.newPlot(\n",
       "                        '86435a13-afbc-44e6-a632-aa62a0f5501a',\n",
       "                        [{\"marker\": {\"color\": [\"#0000ff\", \"#ff0000\"]}, \"opacity\": 0.5, \"type\": \"histogram\", \"uid\": \"483ef05d-1d7a-4cf9-8e72-4a3b86f18ad5\", \"x\": [\"Democrat\", \"Democrat\", \"Democrat\", \"Democrat\", \"Democrat\", \"Democrat\", \"Democrat\", \"Democrat\", \"Democrat\", \"Democrat\", \"Democrat\", \"Democrat\", \"Democrat\", \"Democrat\", \"Democrat\", \"Democrat\", \"Democrat\", \"Democrat\", \"Democrat\", \"Democrat\", \"Democrat\", \"Independent\", \"Democrat\", \"Republican\", \"Democrat\"]}],\n",
       "                        {\"title\": {\"text\": \"Candidate Party\"}},\n",
       "                        {\"showLink\": false, \"responsive\": true, \"plotlyServerURL\": \"https://plot.ly\", \"linkText\": \"Export to plot.ly\"}\n",
       "                    ).then(function(){\n",
       "                            \n",
       "var gd = document.getElementById('86435a13-afbc-44e6-a632-aa62a0f5501a');\n",
       "var x = new MutationObserver(function (mutations, observer) {{\n",
       "        var display = window.getComputedStyle(gd).display;\n",
       "        if (!display || display === 'none') {{\n",
       "            console.log([gd, 'removed!']);\n",
       "            Plotly.purge(gd);\n",
       "            observer.disconnect();\n",
       "        }}\n",
       "}});\n",
       "\n",
       "// Listen for the removal of the full notebook cells\n",
       "var notebookContainer = gd.closest('#notebook-container');\n",
       "if (notebookContainer) {{\n",
       "    x.observe(notebookContainer, {childList: true});\n",
       "}}\n",
       "\n",
       "// Listen for the clearing of the current output cell\n",
       "var outputEl = gd.closest('.output');\n",
       "if (outputEl) {{\n",
       "    x.observe(outputEl, {childList: true});\n",
       "}}\n",
       "\n",
       "                        })\n",
       "                };\n",
       "                });\n",
       "            </script>\n",
       "        </div>"
      ]
     },
     "metadata": {},
     "output_type": "display_data"
    }
   ],
   "source": [
    "data = [go.Histogram(\n",
    "    x=candidates['Party'],\n",
    "    marker=dict(\n",
    "        color=['#0000ff', '#ff0000']\n",
    "    ),\n",
    "    opacity=0.5\n",
    ")]\n",
    "\n",
    "layout = go.Layout(\n",
    "    title='Candidate Party'\n",
    ")\n",
    "\n",
    "fig = go.Figure(data=data, layout=layout)\n",
    "\n",
    "iplot(fig, filename='pandas/simple-histogram')\n"
   ]
  },
  {
   "cell_type": "code",
   "execution_count": 6,
   "metadata": {},
   "outputs": [
    {
     "data": {
      "application/vnd.plotly.v1+json": {
       "config": {
        "linkText": "Export to plot.ly",
        "plotlyServerURL": "https://plot.ly",
        "responsive": true,
        "showLink": false
       },
       "data": [
        {
         "name": "Age",
         "type": "box",
         "uid": "23254de3-881e-4728-8012-b388200e38de",
         "x": [
          54,
          76,
          50,
          53,
          37,
          58,
          44,
          56,
          38,
          89,
          54,
          67,
          68,
          58,
          40,
          44,
          46,
          45,
          77,
          38,
          69,
          66,
          44,
          72,
          52
         ]
        }
       ],
       "layout": {
        "title": {
         "text": "Candidate Age"
        }
       }
      },
      "text/html": [
       "<div>\n",
       "        \n",
       "        \n",
       "            <div id=\"ddbf6886-b953-48c6-a37d-3b5c9bc5e685\" class=\"plotly-graph-div\" style=\"height:525px; width:100%;\"></div>\n",
       "            <script type=\"text/javascript\">\n",
       "                require([\"plotly\"], function(Plotly) {\n",
       "                    window.PLOTLYENV=window.PLOTLYENV || {};\n",
       "                    window.PLOTLYENV.BASE_URL='https://plot.ly';\n",
       "                    \n",
       "                if (document.getElementById(\"ddbf6886-b953-48c6-a37d-3b5c9bc5e685\")) {\n",
       "                    Plotly.newPlot(\n",
       "                        'ddbf6886-b953-48c6-a37d-3b5c9bc5e685',\n",
       "                        [{\"name\": \"Age\", \"type\": \"box\", \"uid\": \"5ecd3173-c187-44db-9c0f-8db5a4eda88c\", \"x\": [54, 76, 50, 53, 37, 58, 44, 56, 38, 89, 54, 67, 68, 58, 40, 44, 46, 45, 77, 38, 69, 66, 44, 72, 52]}],\n",
       "                        {\"title\": {\"text\": \"Candidate Age\"}},\n",
       "                        {\"showLink\": false, \"responsive\": true, \"plotlyServerURL\": \"https://plot.ly\", \"linkText\": \"Export to plot.ly\"}\n",
       "                    ).then(function(){\n",
       "                            \n",
       "var gd = document.getElementById('ddbf6886-b953-48c6-a37d-3b5c9bc5e685');\n",
       "var x = new MutationObserver(function (mutations, observer) {{\n",
       "        var display = window.getComputedStyle(gd).display;\n",
       "        if (!display || display === 'none') {{\n",
       "            console.log([gd, 'removed!']);\n",
       "            Plotly.purge(gd);\n",
       "            observer.disconnect();\n",
       "        }}\n",
       "}});\n",
       "\n",
       "// Listen for the removal of the full notebook cells\n",
       "var notebookContainer = gd.closest('#notebook-container');\n",
       "if (notebookContainer) {{\n",
       "    x.observe(notebookContainer, {childList: true});\n",
       "}}\n",
       "\n",
       "// Listen for the clearing of the current output cell\n",
       "var outputEl = gd.closest('.output');\n",
       "if (outputEl) {{\n",
       "    x.observe(outputEl, {childList: true});\n",
       "}}\n",
       "\n",
       "                        })\n",
       "                };\n",
       "                });\n",
       "            </script>\n",
       "        </div>"
      ]
     },
     "metadata": {},
     "output_type": "display_data"
    }
   ],
   "source": [
    "trace0 = go.Box(\n",
    "    x=candidates['Age'],\n",
    "    name='Age'\n",
    ")\n",
    "data = [trace0]\n",
    "layout = go.Layout(\n",
    "    title='Candidate Age'\n",
    ")\n",
    "fig = go.Figure(data=data, layout=layout)\n",
    "iplot(fig)"
   ]
  },
  {
   "cell_type": "code",
   "execution_count": 37,
   "metadata": {},
   "outputs": [
    {
     "data": {
      "application/vnd.plotly.v1+json": {
       "config": {
        "linkText": "Export to plot.ly",
        "plotlyServerURL": "https://plot.ly",
        "responsive": true,
        "showLink": false
       },
       "data": [
        {
         "opacity": 0.5,
         "type": "histogram",
         "uid": "35d44e67-b465-4c34-8df8-13e6fc1249ec",
         "x": [
          "Colorado",
          "Delaware",
          "New Jersey",
          "Montana",
          "Indiana",
          "New York",
          "Texas",
          "New Jersey",
          "Hawaii",
          "Alaska",
          "California",
          "Colorado",
          "Washington",
          "Minnesota",
          "Massachusetts",
          "Florida",
          "Texas",
          "Ohio",
          "Vermont",
          "California",
          "Massachusetts",
          "California",
          "New York",
          "New York",
          "New York"
         ]
        }
       ],
       "layout": {
        "title": {
         "text": "Current State"
        }
       }
      },
      "text/html": [
       "<div>\n",
       "        \n",
       "        \n",
       "            <div id=\"aa2ab76a-2018-4676-8d32-e0c44dc72ae5\" class=\"plotly-graph-div\" style=\"height:525px; width:100%;\"></div>\n",
       "            <script type=\"text/javascript\">\n",
       "                require([\"plotly\"], function(Plotly) {\n",
       "                    window.PLOTLYENV=window.PLOTLYENV || {};\n",
       "                    window.PLOTLYENV.BASE_URL='https://plot.ly';\n",
       "                    \n",
       "                if (document.getElementById(\"aa2ab76a-2018-4676-8d32-e0c44dc72ae5\")) {\n",
       "                    Plotly.newPlot(\n",
       "                        'aa2ab76a-2018-4676-8d32-e0c44dc72ae5',\n",
       "                        [{\"opacity\": 0.5, \"type\": \"histogram\", \"uid\": \"e9cf4fb7-1bd8-4f5e-bd30-10f0ac9e3bed\", \"x\": [\"Colorado\", \"Delaware\", \"New Jersey\", \"Montana\", \"Indiana\", \"New York\", \"Texas\", \"New Jersey\", \"Hawaii\", \"Alaska\", \"California\", \"Colorado\", \"Washington\", \"Minnesota\", \"Massachusetts\", \"Florida\", \"Texas\", \"Ohio\", \"Vermont\", \"California\", \"Massachusetts\", \"California\", \"New York\", \"New York\", \"New York\"]}],\n",
       "                        {\"title\": {\"text\": \"Current State\"}},\n",
       "                        {\"plotlyServerURL\": \"https://plot.ly\", \"showLink\": false, \"responsive\": true, \"linkText\": \"Export to plot.ly\"}\n",
       "                    ).then(function(){\n",
       "                            \n",
       "var gd = document.getElementById('aa2ab76a-2018-4676-8d32-e0c44dc72ae5');\n",
       "var x = new MutationObserver(function (mutations, observer) {{\n",
       "        var display = window.getComputedStyle(gd).display;\n",
       "        if (!display || display === 'none') {{\n",
       "            console.log([gd, 'removed!']);\n",
       "            Plotly.purge(gd);\n",
       "            observer.disconnect();\n",
       "        }}\n",
       "}});\n",
       "\n",
       "// Listen for the removal of the full notebook cells\n",
       "var notebookContainer = gd.closest('#notebook-container');\n",
       "if (notebookContainer) {{\n",
       "    x.observe(notebookContainer, {childList: true});\n",
       "}}\n",
       "\n",
       "// Listen for the clearing of the current output cell\n",
       "var outputEl = gd.closest('.output');\n",
       "if (outputEl) {{\n",
       "    x.observe(outputEl, {childList: true});\n",
       "}}\n",
       "\n",
       "                        })\n",
       "                };\n",
       "                });\n",
       "            </script>\n",
       "        </div>"
      ]
     },
     "metadata": {},
     "output_type": "display_data"
    }
   ],
   "source": [
    "data = [go.Histogram(\n",
    "    x=candidates['CurrentState'],\n",
    "    opacity=0.5\n",
    ")]\n",
    "\n",
    "layout = go.Layout(\n",
    "    title='Current State'\n",
    ")\n",
    "\n",
    "fig = go.Figure(data=data, layout=layout)\n",
    "\n",
    "iplot(fig, filename='pandas/simple-histogram')\n"
   ]
  },
  {
   "cell_type": "code",
   "execution_count": null,
   "metadata": {},
   "outputs": [],
   "source": []
  }
 ],
 "metadata": {
  "kernelspec": {
   "display_name": "Python 3",
   "language": "python",
   "name": "python3"
  },
  "language_info": {
   "codemirror_mode": {
    "name": "ipython",
    "version": 3
   },
   "file_extension": ".py",
   "mimetype": "text/x-python",
   "name": "python",
   "nbconvert_exporter": "python",
   "pygments_lexer": "ipython3",
   "version": "3.5.2"
  }
 },
 "nbformat": 4,
 "nbformat_minor": 2
}
